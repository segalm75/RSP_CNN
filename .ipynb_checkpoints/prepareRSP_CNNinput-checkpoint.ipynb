{
 "cells": [
  {
   "cell_type": "markdown",
   "metadata": {},
   "source": [
    "# Prepare \"image\" RSP files for CNN retrieval\n",
    "#--------------------------------------------\n",
    "1. Saves correlated and random noise realizations as images\n",
    "   for either I/Q or DOLP elements\n",
    "2. Save targets as csv/txt file to be read by matlab\n",
    "3. First attemp is processed with matlab CNN toolbox"
   ]
  },
  {
   "cell_type": "code",
   "execution_count": 2,
   "metadata": {
    "collapsed": true
   },
   "outputs": [],
   "source": [
    "# import neccesary modules for this module\n",
    "#-------------------------------------------\n",
    "import pandas as pd\n",
    "import numpy as np\n",
    "import scipy as sio\n",
    "import scipy.stats as stats\n",
    "import netCDF4 as nc4\n",
    "import matplotlib \n",
    "import matplotlib.pyplot as plt\n",
    "import matplotlib.colors as colors\n",
    "from matplotlib import cm\n",
    "from matplotlib.collections import LineCollection\n",
    "from matplotlib.patches import Polygon\n",
    "from matplotlib.patches import Polygon\n",
    "from mpl_toolkits.basemap import Basemap\n",
    "from mpl_toolkits.axes_grid1 import make_axes_locatable\n",
    "from sklearn.preprocessing import StandardScaler\n",
    "from sklearn.preprocessing import MinMaxScaler\n",
    "import shapefile\n",
    "# image processing\n",
    "import PIL\n",
    "import skimage\n",
    "from skimage.io import imsave\n",
    "import matplotlib.image as mpimg\n",
    "from skimage import io, exposure, img_as_uint, img_as_float\n",
    "%matplotlib inline"
   ]
  },
  {
   "cell_type": "code",
   "execution_count": 3,
   "metadata": {
    "collapsed": true
   },
   "outputs": [],
   "source": [
    "## read netcdf parameters from LUT or measurements files\n",
    "## nc_file is full file path, \n",
    "## e.g. filepath = '..//..//py_data//oracles_NN//training//NNcld_20150911_20160102_20160420_nonoise.nc'\n",
    "## varname is netcdf variable name string in file, e.g. \"ref_i\"\n",
    "##--------------------------------------------------------------\n",
    "\n",
    "def read_nc_file( nc_file, varname ):\n",
    "    f = nc4.Dataset(nc_file)\n",
    "    data = f.variables[varname]\n",
    "    #f.close()\n",
    "    return data;"
   ]
  },
  {
   "cell_type": "code",
   "execution_count": null,
   "metadata": {
    "collapsed": true
   },
   "outputs": [],
   "source": []
  },
  {
   "cell_type": "code",
   "execution_count": 4,
   "metadata": {
    "collapsed": true
   },
   "outputs": [],
   "source": [
    "## cat netcdf parameters from LUT or measurements files\n",
    "## to create dataframe in pandas, \n",
    "## colname is column name to change from default\n",
    "## this version is based on create_df_from_nc\n",
    "## but reads and saves the 3D arrays in a way that is \n",
    "## suites for CNN input\n",
    "##-----------------------------------------------------\n",
    "\n",
    "def create_df_from_nc4CNN( nc_data, colname ):\n",
    "    df = pd.DataFrame([])\n",
    "    # check data size and length \n",
    "    l = len(nc_data.shape)\n",
    "    vza = np.arange(24,125)\n",
    "    # if l=3 cat dataframe, if l=1 save var as df\n",
    "    if   l==3:\n",
    "        # wavelength is the 2nd dim\n",
    "        for i in range(nc_data.shape[2]):\n",
    "            tmp = pd.DataFrame(np.transpose(nc_data[vza,:,i]))# only VZA -40 to 40\n",
    "            # print tmp.shape; this has size of 7x101\n",
    "            if (i==0):\n",
    "                out = tmp\n",
    "                #print out.shape\n",
    "            else:\n",
    "                # stack all 2D arrays into a multidimentional array\n",
    "                out = np.dstack((out, tmp))\n",
    "                \n",
    "    elif l==2:\n",
    "            tmp = pd.DataFrame(np.transpose(nc_data[3,:])) # 3 is the VZA index (all rows suppose to be similar)\n",
    "            df=df.append(pd.DataFrame(tmp))\n",
    "            # rename column name\n",
    "            df.rename(columns=lambda x: colname, inplace=True)\n",
    "            out = []\n",
    "    elif l==1:\n",
    "            df=df.append(pd.DataFrame(nc_data[:]))\n",
    "            # rename column name\n",
    "            df.rename(columns=lambda x: colname, inplace=True)\n",
    "            out = []\n",
    "    return df, out;"
   ]
  },
  {
   "cell_type": "code",
   "execution_count": null,
   "metadata": {
    "collapsed": true
   },
   "outputs": [],
   "source": []
  },
  {
   "cell_type": "code",
   "execution_count": 5,
   "metadata": {
    "collapsed": true
   },
   "outputs": [],
   "source": [
    "## this function concatanates nc files (with noise) for training purposes\n",
    "## nc_array - a string array with strings for full files path\n",
    "## var_in   - the variable to read from nc file (e.g. \"ref_i\")\n",
    "## var_out  - the variable to name df columns\n",
    "##---------------------------------------------------------------------------\n",
    "def concat_nc_files( nc_array, var_in, var_out):\n",
    "    \n",
    "    df = pd.DataFrame([])\n",
    "    \n",
    "    for idx, fi in enumerate(nc_array):\n",
    "        # read nc file\n",
    "        tmp_ = read_nc_file( fi,   var_in )\n",
    "        # convert nc to df\n",
    "        tmp  = create_df_from_nc( tmp_, var_out )\n",
    "        # print note\n",
    "        print ('concat file#%d:, %s' % (idx + 1, fi))\n",
    "        # concat df\n",
    "        df=df.append(pd.DataFrame(tmp))\n",
    "        \n",
    "    \n",
    "    # re-index according to row numbers\n",
    "    df.index = range(len(df))\n",
    "    \n",
    "    print \"final concat file size\"\n",
    "    print df.shape\n",
    "    \n",
    "    print \"concat df\"\n",
    "    print df.tail()\n",
    "        \n",
    "    return df"
   ]
  },
  {
   "cell_type": "code",
   "execution_count": 6,
   "metadata": {
    "collapsed": true
   },
   "outputs": [],
   "source": [
    "## cat netcdf parameters from LUT or measurements files\n",
    "## to create dataframe in pandas, \n",
    "## colname is column name to change from default\n",
    "##-----------------------------------------------------\n",
    "\n",
    "def create_df_from_nc( nc_data, colname ):\n",
    "    df = pd.DataFrame([])\n",
    "    # check data size and length \n",
    "    l = len(nc_data.shape)\n",
    "    vza = np.arange(24,125)\n",
    "    # if l=3 cat dataframe, if l=1 save var as df\n",
    "    if   l==3:\n",
    "        # wavelength dim is the 2nd element\n",
    "        for i in range(nc_data.shape[1]):\n",
    "                #df=df.append(pd.DataFrame(nc_data[:,i,:]))\n",
    "                tmp = pd.DataFrame(np.transpose(nc_data[vza,i,:]))# only VZA -40 to 40\n",
    "                # rename column name\n",
    "                tmp.rename(columns=lambda x: colname + '_lambda_' + str(i+1) + '_VZA_',\n",
    "                               inplace=True)\n",
    "                df = pd.concat([df, tmp], axis=1)\n",
    "                \n",
    "    elif l==2:\n",
    "            tmp = pd.DataFrame(np.transpose(nc_data[3,:])) # 3 is the VZA index (all rows suppose to be similar)\n",
    "            df=df.append(pd.DataFrame(tmp))\n",
    "            # rename column name\n",
    "            df.rename(columns=lambda x: colname, inplace=True)\n",
    "    elif l==1:\n",
    "            df=df.append(pd.DataFrame(nc_data[:]))\n",
    "            # rename column name\n",
    "            df.rename(columns=lambda x: colname, inplace=True)\n",
    "    return df;"
   ]
  },
  {
   "cell_type": "code",
   "execution_count": 7,
   "metadata": {
    "collapsed": true
   },
   "outputs": [],
   "source": [
    "# process all noise realization into one file (this is test, so not all are here...)\n",
    "with_noise_nc_array = ['..//..//py_data//oracles_NN//simulated_files//NN_clouds_20170505_PP_10_0000_0_90_cut.nc',\n",
    "            '..//..//py_data//oracles_NN//simulated_files//NN_clouds_20170505_PP_11_0000_0_90_cut.nc',\n",
    "            '..//..//py_data//oracles_NN//simulated_files//NN_clouds_20170505_PP_12_0000_0_90_cut.nc',\n",
    "            '..//..//py_data//oracles_NN//simulated_files//NN_clouds_20170505_PP_13_0000_0_90_cut.nc',\n",
    "            '..//..//py_data//oracles_NN//simulated_files//NN_clouds_20170505_PP_14_0000_0_90_cut.nc']\n",
    "\n",
    "#with_noise_nc_array = ['..//..//py_data//oracles_NN//simulated_files//NN_clouds_20170505_PP_10_0000_0_90_cut.nc']"
   ]
  },
  {
   "cell_type": "code",
   "execution_count": 10,
   "metadata": {},
   "outputs": [
    {
     "name": "stdout",
     "output_type": "stream",
     "text": [
      "dat\n",
      "(7L, 101L, 20736L)\n",
      "F://ORACLES_NN//non_norm_images//ref_q//ref_q_img_000001.png\n",
      "dat\n",
      "(7L, 101L, 20736L)\n",
      "F://ORACLES_NN//non_norm_images//ref_q//ref_q_img_000002.png\n",
      "dat\n",
      "(7L, 101L, 20736L)\n",
      "F://ORACLES_NN//non_norm_images//ref_q//ref_q_img_000003.png\n",
      "dat\n",
      "(7L, 101L, 20736L)\n",
      "F://ORACLES_NN//non_norm_images//ref_q//ref_q_img_000004.png\n",
      "dat\n",
      "(7L, 101L, 20736L)\n",
      "F://ORACLES_NN//non_norm_images//ref_q//ref_q_img_000005.png\n"
     ]
    },
    {
     "data": {
      "image/png": "[encoded data removed]",
      "text/plain": [
       "<matplotlib.figure.Figure at 0x23bca9e8>"
      ]
     },
     "metadata": {},
     "output_type": "display_data"
    },
    {
     "data": {
      "image/png": "[encoded data removed]",
      "text/plain": [
       "<matplotlib.figure.Figure at 0x23bb5c88>"
      ]
     },
     "metadata": {},
     "output_type": "display_data"
    },
    {
     "data": {
      "image/png": "[encoded data removed]",
      "text/plain": [
       "<matplotlib.figure.Figure at 0x3e92b70>"
      ]
     },
     "metadata": {},
     "output_type": "display_data"
    },
    {
     "data": {
      "image/png": "[encoded data removed]",
      "text/plain": [
       "<matplotlib.figure.Figure at 0x27f54710>"
      ]
     },
     "metadata": {},
     "output_type": "display_data"
    },
    {
     "data": {
      "image/png": "[encoded data removed]",
      "text/plain": [
       "<matplotlib.figure.Figure at 0x23f14358>"
      ]
     },
     "metadata": {},
     "output_type": "display_data"
    }
   ],
   "source": [
    "# create I/Q reflectance image set:\n",
    "#----------------------------------\n",
    "# run over each of the files and save data as images:\n",
    "# create corresponding target arrays\n",
    "# replace ref_i or ref_q\n",
    "\n",
    "output_path = 'F://ORACLES_NN//non_norm_images//ref_q//'\n",
    "k = 0 # count of figure number\n",
    "\n",
    "for f in with_noise_nc_array:   \n",
    "    tmp     = read_nc_file( nc_file=f, varname=\"ref_i\" )\n",
    "    df, dat = create_df_from_nc4CNN( tmp, colname = \"ref_i\")\n",
    "    dat_test = np.absolute(dat[:,:,0:2])/dat[:,:,0:2]\n",
    "    print \"dat\"\n",
    "    print dat.shape\n",
    "    \n",
    "    # normalize (0-1) data, create and save images\n",
    "\n",
    "    dat_norm = dat\n",
    "    \n",
    "    for i in range(1): #range(dat.shape[2]):\n",
    "        k += 1\n",
    "        min_max_scaler   = MinMaxScaler().fit(dat[:,:,i].T)\n",
    "        dat_norm[:,:,i]  = min_max_scaler.fit_transform(dat[:,:,i].T).T\n",
    "        # Convert array to Image\n",
    "        #img = PIL.Image.fromarray(dat_norm[:,:,i])\n",
    "        #img = exposure.rescale_intensity(dat_norm[:,:,i], out_range='float')\n",
    "        img = img_as_float(img)\n",
    "        \n",
    "        # save array as image (retain values)\n",
    "        #img = sio.misc.toimage(dat_norm[:,:,i], high=np.max(dat_norm[:,:,i]), low=np.min(dat_norm[:,:,i]), mode='I')\n",
    "        #img.save('my16bit.png')\n",
    "        \n",
    "        #print img\n",
    "        fname = output_path + \"ref_q\"  + '_img_{:06d}.png'.format(k)\n",
    "        print fname\n",
    "        plt.figure()\n",
    "        imgplot = plt.imshow(img,cmap=\"Greys\", vmin=0, vmax=1)\n",
    "        plt.colorbar()\n",
    "        #io.imsave(fname, img)\n",
    "        #imsave(fname, img)\n",
    "        "
   ]
  },
  {
   "cell_type": "code",
   "execution_count": 9,
   "metadata": {},
   "outputs": [
    {
     "name": "stdout",
     "output_type": "stream",
     "text": [
      "['azi', 'sza', 'cod', 'sizea', 'sizeb']\n",
      "concat file#1:, ..//..//py_data//oracles_NN//simulated_files//NN_clouds_20170505_PP_10_0000_0_90_cut.nc\n",
      "concat file#2:, ..//..//py_data//oracles_NN//simulated_files//NN_clouds_20170505_PP_11_0000_0_90_cut.nc\n",
      "concat file#3:, ..//..//py_data//oracles_NN//simulated_files//NN_clouds_20170505_PP_12_0000_0_90_cut.nc\n",
      "concat file#4:, ..//..//py_data//oracles_NN//simulated_files//NN_clouds_20170505_PP_13_0000_0_90_cut.nc\n",
      "concat file#5:, ..//..//py_data//oracles_NN//simulated_files//NN_clouds_20170505_PP_14_0000_0_90_cut.nc\n",
      "final concat file size\n",
      "(103680, 1)\n",
      "concat df\n",
      "         AZI\n",
      "103675   6.0\n",
      "103676   8.0\n",
      "103677  10.0\n",
      "103678  12.0\n",
      "103679  14.0\n",
      "file2save is: F://ORACLES_NN//non_norm_images//targets//AZI.csv\n",
      "concat file#1:, ..//..//py_data//oracles_NN//simulated_files//NN_clouds_20170505_PP_10_0000_0_90_cut.nc\n",
      "concat file#2:, ..//..//py_data//oracles_NN//simulated_files//NN_clouds_20170505_PP_11_0000_0_90_cut.nc\n",
      "concat file#3:, ..//..//py_data//oracles_NN//simulated_files//NN_clouds_20170505_PP_12_0000_0_90_cut.nc\n",
      "concat file#4:, ..//..//py_data//oracles_NN//simulated_files//NN_clouds_20170505_PP_13_0000_0_90_cut.nc\n",
      "concat file#5:, ..//..//py_data//oracles_NN//simulated_files//NN_clouds_20170505_PP_14_0000_0_90_cut.nc\n",
      "final concat file size\n",
      "(103680, 1)\n",
      "concat df\n",
      "         SZA\n",
      "103675  65.0\n",
      "103676  65.0\n",
      "103677  65.0\n",
      "103678  65.0\n",
      "103679  65.0\n",
      "file2save is: F://ORACLES_NN//non_norm_images//targets//SZA.csv\n",
      "concat file#1:, ..//..//py_data//oracles_NN//simulated_files//NN_clouds_20170505_PP_10_0000_0_90_cut.nc\n",
      "concat file#2:, ..//..//py_data//oracles_NN//simulated_files//NN_clouds_20170505_PP_11_0000_0_90_cut.nc\n",
      "concat file#3:, ..//..//py_data//oracles_NN//simulated_files//NN_clouds_20170505_PP_12_0000_0_90_cut.nc\n",
      "concat file#4:, ..//..//py_data//oracles_NN//simulated_files//NN_clouds_20170505_PP_13_0000_0_90_cut.nc\n",
      "concat file#5:, ..//..//py_data//oracles_NN//simulated_files//NN_clouds_20170505_PP_14_0000_0_90_cut.nc\n",
      "final concat file size\n",
      "(103680, 1)\n",
      "concat df\n",
      "         COD\n",
      "103675  30.0\n",
      "103676  30.0\n",
      "103677  30.0\n",
      "103678  30.0\n",
      "103679  30.0\n",
      "file2save is: F://ORACLES_NN//non_norm_images//targets//COD.csv\n",
      "concat file#1:, ..//..//py_data//oracles_NN//simulated_files//NN_clouds_20170505_PP_10_0000_0_90_cut.nc\n",
      "concat file#2:, ..//..//py_data//oracles_NN//simulated_files//NN_clouds_20170505_PP_11_0000_0_90_cut.nc\n",
      "concat file#3:, ..//..//py_data//oracles_NN//simulated_files//NN_clouds_20170505_PP_12_0000_0_90_cut.nc\n",
      "concat file#4:, ..//..//py_data//oracles_NN//simulated_files//NN_clouds_20170505_PP_13_0000_0_90_cut.nc\n",
      "concat file#5:, ..//..//py_data//oracles_NN//simulated_files//NN_clouds_20170505_PP_14_0000_0_90_cut.nc\n",
      "final concat file size\n",
      "(103680, 1)\n",
      "concat df\n",
      "         REF\n",
      "103675  20.0\n",
      "103676  20.0\n",
      "103677  20.0\n",
      "103678  20.0\n",
      "103679  20.0\n",
      "file2save is: F://ORACLES_NN//non_norm_images//targets//REF.csv\n",
      "concat file#1:, ..//..//py_data//oracles_NN//simulated_files//NN_clouds_20170505_PP_10_0000_0_90_cut.nc\n",
      "concat file#2:, ..//..//py_data//oracles_NN//simulated_files//NN_clouds_20170505_PP_11_0000_0_90_cut.nc\n",
      "concat file#3:, ..//..//py_data//oracles_NN//simulated_files//NN_clouds_20170505_PP_12_0000_0_90_cut.nc\n",
      "concat file#4:, ..//..//py_data//oracles_NN//simulated_files//NN_clouds_20170505_PP_13_0000_0_90_cut.nc\n",
      "concat file#5:, ..//..//py_data//oracles_NN//simulated_files//NN_clouds_20170505_PP_14_0000_0_90_cut.nc\n",
      "final concat file size\n",
      "(103680, 1)\n",
      "concat df\n",
      "         VEF\n",
      "103675  0.15\n",
      "103676  0.15\n",
      "103677  0.15\n",
      "103678  0.15\n",
      "103679  0.15\n",
      "file2save is: F://ORACLES_NN//non_norm_images//targets//VEF.csv\n"
     ]
    }
   ],
   "source": [
    "outputPath = 'F://ORACLES_NN//non_norm_images//targets//'\n",
    "\n",
    "in_aux_vars  = ['azi','sza','cod','sizea','sizeb']\n",
    "out_aux_vars = ['AZI','SZA','COD','REF','VEF']\n",
    "print in_aux_vars\n",
    "# save into a table/.csv files\n",
    "for inx in range(len(in_aux_vars)):\n",
    "    # read auxiliary variables and concat files\n",
    "    df_out = concat_nc_files( with_noise_nc_array, in_aux_vars[inx],   out_aux_vars[inx])\n",
    "    file_name = outputPath + out_aux_vars[inx] + \".csv\"\n",
    "    print 'file2save is: ' + file_name\n",
    "    df_out.to_csv(file_name, header=True, index=False)"
   ]
  },
  {
   "cell_type": "code",
   "execution_count": 12,
   "metadata": {},
   "outputs": [],
   "source": [
    "# create I/Q/DOLP reflectance image set:\n",
    "#----------------------------------\n",
    "# run over each of the files and save data as images:\n",
    "# create corresponding target arrays\n",
    "# for both ref_i and ref_q (and for calculated dolp)\n",
    "# add target parameters as seperate csv files (concat)\n",
    "\n",
    "output_path_ref_i = 'F://ORACLES_NN//non_norm_images//ref_i//'\n",
    "output_path_ref_q = 'F://ORACLES_NN//non_norm_images//ref_q//'\n",
    "output_path_dolp  = 'F://ORACLES_NN//non_norm_images//dolp//'\n",
    "\n",
    "k = 0 # count of figure number\n",
    "\n",
    "for f in with_noise_nc_array: \n",
    "    # ref_i\n",
    "    tmp_ref_i           = read_nc_file( nc_file=f, varname=\"ref_i\" )\n",
    "    df_ref_i, dat_ref_i = create_df_from_nc4CNN( tmp_ref_i, colname = \"ref_i\")\n",
    "    # ref_q\n",
    "    tmp_ref_q           = read_nc_file( nc_file=f, varname=\"ref_q\" )\n",
    "    df_ref_q, dat_ref_q = create_df_from_nc4CNN( tmp_ref_q, colname = \"ref_q\")\n",
    "    # dolp\n",
    "    dat_dolp = np.absolute(dat_ref_q)/dat_ref_i\n",
    "    \n",
    "    # normalize (0-1) data, create and save images\n",
    "\n",
    "    dat_norm_ref_i = dat_ref_i\n",
    "    dat_norm_ref_q = dat_ref_q\n",
    "    dat_norm_dolp  = dat_dolp\n",
    "    \n",
    "    for i in range(dat.shape[2]):\n",
    "        k += 1\n",
    "        # ref_i\n",
    "        #-------\n",
    "        # this is normalized\n",
    "        min_max_scaler_ref_i   = MinMaxScaler().fit(dat_ref_i[:,:,i].T)\n",
    "        dat_norm_ref_i[:,:,i]  = min_max_scaler.fit_transform(dat_ref_i[:,:,i].T).T\n",
    "        img_ref_i = exposure.rescale_intensity(dat_norm_ref_i[:,:,i], out_range='float')\n",
    "        # this is non-normalized (no need to transpose)\n",
    "        img_ref_i = exposure.rescale_intensity(dat_ref_i[:,:,i], out_range='float')\n",
    "        img_ref_i = img_as_uint(img_ref_i)\n",
    "        #print img\n",
    "        fname = output_path_ref_i + \"ref_i\"  + '_img_{:06d}.png'.format(k)\n",
    "        io.imsave(fname, img_ref_i)\n",
    "        # ref_q\n",
    "        #-------\n",
    "        # this is normalized\n",
    "        min_max_scaler_ref_q   = MinMaxScaler().fit(dat_ref_q[:,:,i].T)\n",
    "        dat_norm_ref_q[:,:,i]  = min_max_scaler.fit_transform(dat_ref_q[:,:,i].T).T\n",
    "        img_ref_q = exposure.rescale_intensity(dat_norm_ref_q[:,:,i], out_range='float')\n",
    "        # this is non-normalized\n",
    "        img_ref_q = exposure.rescale_intensity(dat_ref_q[:,:,i], out_range='float')\n",
    "        img_ref_q = img_as_uint(img_ref_q)\n",
    "        #print img\n",
    "        fname = output_path_ref_q + \"ref_q\"  + '_img_{:06d}.png'.format(k)\n",
    "        io.imsave(fname, img_ref_q)\n",
    "        # dolp\n",
    "        #-------\n",
    "        # this is normalized\n",
    "        min_max_scaler_dolp   = MinMaxScaler().fit(dat_dolp[:,:,i].T)\n",
    "        dat_norm_dolp[:,:,i]  = min_max_scaler.fit_transform(dat_dolp[:,:,i].T).T\n",
    "        img_dolp = exposure.rescale_intensity(dat_norm_dolp[:,:,i], out_range='float')\n",
    "        # this is non-normalized\n",
    "        img_dolp = exposure.rescale_intensity(dat_dolp[:,:,i], out_range='float')\n",
    "        img_dolp = img_as_uint(img_dolp)\n",
    "        #print img\n",
    "        fname = output_path_dolp + \"dolp\"  + '_img_{:06d}.png'.format(k)\n",
    "        io.imsave(fname, img_dolp)\n",
    "        "
   ]
  },
  {
   "cell_type": "code",
   "execution_count": 6,
   "metadata": {},
   "outputs": [
    {
     "name": "stdout",
     "output_type": "stream",
     "text": [
      "(7, 101)\n",
      "(7L, 101L, 20736L)\n",
      "..//..//py_data//oracles_NN//simulated_files//NN_clouds_20170505_PP_10_0000_0_90_cut.nc\n"
     ]
    }
   ],
   "source": [
    "output_path = 'D://ORACLES_NN//images//ref_i//'\n",
    "    \n",
    "tmp     = read_nc_file( nc_file=with_noise_nc_array[0], varname=\"ref_i\" )\n",
    "df, dat = create_df_from_nc4CNN( tmp, colname = \"ref_i\")\n",
    "print dat.shape    \n",
    "print with_noise_nc_array[0]\n",
    "  "
   ]
  },
  {
   "cell_type": "code",
   "execution_count": 17,
   "metadata": {},
   "outputs": [
    {
     "name": "stdout",
     "output_type": "stream",
     "text": [
      "D://ORACLES_NN//images//ref_i//ref_i_img_000001.png\n",
      "D://ORACLES_NN//images//ref_i//ref_i_img_000002.png\n"
     ]
    }
   ],
   "source": [
    "# testing other packages without data precision loss\n",
    "#----------------------------------------------------\n",
    "from skimage import io, exposure, img_as_uint, img_as_float\n",
    "\n",
    "#io.use_plugin('freeimage')\n",
    "\n",
    "dat_norm = dat\n",
    "k = 0\n",
    "for i in range(2):#range(dat.shape[2]):\n",
    "        k += 1\n",
    "        min_max_scaler   = MinMaxScaler().fit(dat[:,:,i].T)\n",
    "        dat_norm[:,:,i]  = min_max_scaler.fit_transform(dat[:,:,i].T).T\n",
    "        # Convert array to Image\n",
    "        img = exposure.rescale_intensity(dat_norm[:,:,i], out_range='float')\n",
    "        img = img_as_uint(img)\n",
    "        #print img\n",
    "        fname = output_path + \"ref_i\"  + '_img_{:06d}.png'.format(k)\n",
    "        print fname\n",
    "        # save\n",
    "        io.imsave(fname, img)\n",
    "        \n",
    "        # read saved image and plot (check)\n",
    "        #img2 = io.imread(fname)\n",
    "        #img2 = np.fliplr(np.flipud(img2))\n",
    "        #plt.figure()\n",
    "        #imgplot = plt.imshow(img2,cmap=\"Greys\", vmin=0, vmax=1)\n",
    "        #plt.colorbar()\n",
    "        "
   ]
  },
  {
   "cell_type": "code",
   "execution_count": 10,
   "metadata": {},
   "outputs": [
    {
     "name": "stdout",
     "output_type": "stream",
     "text": [
      "D://ORACLES_NN//images//ref_i//ref_i_img_000001.png\n",
      "D://ORACLES_NN//images//ref_i//ref_i_img_000002.png\n"
     ]
    },
    {
     "name": "stderr",
     "output_type": "stream",
     "text": [
      "C:\\Users\\msegalro.NDC\\WinPython-64bit-2.7.9.5\\python-2.7.9.amd64\\lib\\site-packages\\skimage\\util\\dtype.py:111: UserWarning: Possible precision loss when converting from float32 to uint16\n",
      "  \"%s to %s\" % (dtypeobj_in, dtypeobj))\n"
     ]
    }
   ],
   "source": [
    "dat_norm = dat\n",
    "k = 0\n",
    "for i in range(2):#range(dat.shape[2]):\n",
    "        k += 1\n",
    "        min_max_scaler   = MinMaxScaler().fit(dat[:,:,i].T)\n",
    "        dat_norm[:,:,i]  = min_max_scaler.fit_transform(dat[:,:,i].T).T\n",
    "        # Convert array to Image\n",
    "        img = PIL.Image.fromarray(dat_norm[:,:,i])\n",
    "        #print img\n",
    "        fname = output_path + \"ref_i\"  + '_img_{:06d}.png'.format(k)\n",
    "        print fname\n",
    "        #plt.figure()\n",
    "        #imgplot = plt.imshow(img,cmap=\"Greys\", vmin=0, vmax=1)\n",
    "        #plt.colorbar()\n",
    "        \n",
    "        imsave(fname, img)\n",
    "        "
   ]
  },
  {
   "cell_type": "code",
   "execution_count": 11,
   "metadata": {},
   "outputs": [
    {
     "name": "stdout",
     "output_type": "stream",
     "text": [
      "..//..//py_data//oracles_NN//simulated_files//NN_clouds_20170505_PP_10_0000_0_90_cut.nc\n",
      "..//..//py_data//oracles_NN//simulated_files//NN_clouds_20170505_PP_10_0000_0_90_cut.nc\n",
      "..//..//py_data//oracles_NN//simulated_files//NN_clouds_20170505_PP_11_0000_0_90_cut.nc\n",
      "..//..//py_data//oracles_NN//simulated_files//NN_clouds_20170505_PP_12_0000_0_90_cut.nc\n",
      "..//..//py_data//oracles_NN//simulated_files//NN_clouds_20170505_PP_13_0000_0_90_cut.nc\n",
      "..//..//py_data//oracles_NN//simulated_files//NN_clouds_20170505_PP_14_0000_0_90_cut.nc\n"
     ]
    }
   ],
   "source": [
    "# plot figures and save them\n",
    "#fig= plt.figure()\n",
    "#plt.plot(range(10))\n",
    "#fig.savefig(\"save_file_name.pdf\")\n",
    "#plt.close()\n",
    "print with_noise_nc_array[0]\n",
    "for f in with_noise_nc_array:  \n",
    "    #print np.dtype(f)\n",
    "    print f"
   ]
  },
  {
   "cell_type": "code",
   "execution_count": null,
   "metadata": {
    "collapsed": true
   },
   "outputs": [],
   "source": [
    "# create target variables arrays:\n",
    "#---------------------------------\n",
    "cod = concat_nc_files4CNN( with_noise_nc_array, \"cod\",   \"COD\" )\n",
    "ref = concat_nc_files4CNN( with_noise_nc_array, \"sizea\", \"REF\" )\n",
    "vef = concat_nc_files4CNN( with_noise_nc_array, \"sizeb\", \"VEF\" )\n",
    "print cod.tail()\n",
    "print ref.tail()\n",
    "print vef.tail()"
   ]
  },
  {
   "cell_type": "code",
   "execution_count": null,
   "metadata": {
    "collapsed": true
   },
   "outputs": [],
   "source": [
    "# upload simulated data for plotting\n",
    "#------------------------------------\n",
    "# filepath = '..//..//py_data//oracles_NN//simulated_files//NN_clouds_20170505_PP_cut_good.nc'#no_noise data\n",
    "filepath = '..//..//py_data//oracles_NN//simulated_files//NN_clouds_20170505_PP_10_0000_0_90_cut.nc'\n",
    "ref_i = read_nc_file( nc_file=filepath, varname=\"ref_i\" )\n",
    "print ref_i.shape\n",
    "df_ref_i, out_ref_i = create_df_from_nc4CNN( ref_i, colname=\"ref_i\" )\n",
    "cod = read_nc_file( nc_file=filepath, varname=\"cod\" )\n",
    "cod_df, out = create_df_from_nc4CNN( cod, colname=\"COT\" )\n",
    "print cod_df.shape\n",
    "ref = read_nc_file( nc_file=filepath, varname=\"sizea\" )\n",
    "ref_df, out = create_df_from_nc4CNN( ref, colname=\"REF\" )\n",
    "print ref_df.shape\n",
    "vef = read_nc_file( nc_file=filepath, varname=\"sizeb\" )\n",
    "vef_df, out = create_df_from_nc4CNN( vef, colname=\"VEF\" )\n",
    "print vef_df.shape"
   ]
  }
 ],
 "metadata": {
  "kernelspec": {
   "display_name": "Python 3",
   "language": "python",
   "name": "python3"
  },
  "language_info": {
   "codemirror_mode": {
    "name": "ipython",
    "version": 3
   },
   "file_extension": ".py",
   "mimetype": "text/x-python",
   "name": "python",
   "nbconvert_exporter": "python",
   "pygments_lexer": "ipython3",
   "version": "3.5.4"
  }
 },
 "nbformat": 4,
 "nbformat_minor": 1
}
